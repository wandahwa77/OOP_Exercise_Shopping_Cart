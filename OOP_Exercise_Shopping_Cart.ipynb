{
  "cells": [
    {
      "cell_type": "markdown",
      "metadata": {
        "id": "view-in-github",
        "colab_type": "text"
      },
      "source": [
        "<a href=\"https://colab.research.google.com/github/wandahwa77/OOP_Exercise_Shopping_Cart/blob/main/OOP_Exercise_Shopping_Cart.ipynb\" target=\"_parent\"><img src=\"https://colab.research.google.com/assets/colab-badge.svg\" alt=\"Open In Colab\"/></a>"
      ]
    },
    {
      "cell_type": "markdown",
      "source": [
        "# **REMEMBER TO MAKE A COP OF THE NOTEBOOK BEFORE YOU START WORKING ON IT**"
      ],
      "metadata": {
        "id": "2nyxAFJwKlz4"
      }
    },
    {
      "cell_type": "markdown",
      "metadata": {
        "id": "pOWyxk9IHkPU"
      },
      "source": [
        "# Object Oriented Shopping Cart - Lab"
      ]
    },
    {
      "cell_type": "markdown",
      "metadata": {
        "id": "2tPfwkfjHkPW"
      },
      "source": [
        "## Introduction\n",
        "In this lab, you'll be mimicking the functionality of a shopping cart with your knowledge of object-oriented programming in Python. Your shopping cart will be able to add items of different quantities and prices to the cart, calculate discounts, keep track of what items have been added, and void transactions."
      ]
    },
    {
      "cell_type": "markdown",
      "metadata": {
        "id": "4078KozAHkPX"
      },
      "source": [
        "## Objectives\n",
        "\n",
        "You will be able to:\n",
        "\n",
        "* Define and call an instance method\n",
        "* Define and access instance attributes\n",
        "* Call instance methods inside of other instance methods\n",
        "* Create methods that calculate statistics of the attributes of an object\n",
        "* Create a domain model using OOP"
      ]
    },
    {
      "cell_type": "markdown",
      "metadata": {
        "id": "EIc9yau-HkPY"
      },
      "source": [
        "## Instructions"
      ]
    },
    {
      "cell_type": "markdown",
      "metadata": {
        "id": "yb2qRc8EHkPY"
      },
      "source": [
        "In this lab, you'll practice your object orientated programming skills by modifying the **shopping_cart.py** file.\n",
        "\n",
        "To start, you'll once again set this notebook to `autoreload` packages so that when you update **shopping_cart.py**, you can experiment with the effects here. Remember that while the package will be reloaded, you will need to reinitialize your class instance. Here's an example to get you started:"
      ]
    },
    {
      "cell_type": "code",
      "execution_count": null,
      "metadata": {
        "colab": {
          "base_uri": "https://localhost:8080/"
        },
        "id": "cKhaHFIkHkPZ",
        "outputId": "beb350d4-5541-49d4-f69d-ec6a6153c539"
      },
      "outputs": [
        {
          "output_type": "stream",
          "name": "stdout",
          "text": [
            "The autoreload extension is already loaded. To reload it, use:\n",
            "  %reload_ext autoreload\n"
          ]
        }
      ],
      "source": [
        "%load_ext autoreload\n",
        "%autoreload 2"
      ]
    },
    {
      "cell_type": "code",
      "execution_count": null,
      "metadata": {
        "id": "ekgPxaPTHkPa"
      },
      "outputs": [],
      "source": [
        "# Initialize an instance of our shopping cart class\n"
      ]
    },
    {
      "cell_type": "markdown",
      "metadata": {
        "id": "wI9ZKoXeHkPa"
      },
      "source": [
        "## Add an Initialization Behavior to the `ShoppingCart()` class\n",
        "\n",
        "Update your **shopping_cart.py** file to include an `__init__` method. This should define three default attributes: `total`, which should be set to 0; `employee_discount`, set to `None`; and `items`, set to a blank list. The line of code below should work and produce the previewed output once you do this."
      ]
    },
    {
      "cell_type": "code",
      "execution_count": null,
      "metadata": {
        "id": "KlykA6HMHkPa"
      },
      "outputs": [],
      "source": [
        "# Add a line to reinitialize an instance of the class\n"
      ]
    },
    {
      "cell_type": "markdown",
      "metadata": {
        "id": "wLqsspfzHkPa"
      },
      "source": [
        "## Add an `add_item()` method\n",
        "\n",
        "Define an instance method called `.add_item()` that will add an item to our cart. It should take in the name of an item, its price, and an optional quantity. The method should increase the shopping cart's total by the appropriate amount and return the new total for the shopping cart.\n",
        "\n",
        "> **Hint:** think about how you would like to keep this information in your list of items. Can we imagine wanting to ever check the price of an individual item after we've added it to our cart? What data type do we know of that can associate the item name with its price?"
      ]
    },
    {
      "cell_type": "code",
      "execution_count": null,
      "metadata": {
        "id": "PvziEbDTHkPa"
      },
      "outputs": [],
      "source": []
    },
    {
      "cell_type": "code",
      "execution_count": null,
      "metadata": {
        "id": "6uHSfEAwHkPb"
      },
      "outputs": [],
      "source": []
    },
    {
      "cell_type": "code",
      "execution_count": null,
      "metadata": {
        "id": "TAOKbYKVHkPb"
      },
      "outputs": [],
      "source": []
    },
    {
      "cell_type": "markdown",
      "metadata": {
        "id": "Yt8kAbjnHkPb"
      },
      "source": [
        "## Add Summary Methods `mean_item_price()` and `median_item_price()`\n",
        "\n",
        "Define two more instance methods: `.mean_item_price()` and `.median_item_price()`, which should return the average price per item and the median price of the items in your cart, respectively.\n",
        "\n",
        "> **Remember:** the mean is the average price per item and to find the median we must do three things:\n",
        "\n",
        "* First, put all numbers in our list in ascending order (smallest to greatest)\n",
        "* Then check to see if there is an odd number of elements in our list. If so, the middle number is the median\n",
        "* Finally, if there is an even number of elements in the list, the median will be the average or mean of the two center elements (e.g. given the list `[1, 2, 3, 4]` the elements 2 and 3 are the two center elements and the median would be (2 + 3)/2 or 2.5)  "
      ]
    },
    {
      "cell_type": "code",
      "execution_count": null,
      "metadata": {
        "id": "LuYSuxQsHkPb"
      },
      "outputs": [],
      "source": []
    },
    {
      "cell_type": "markdown",
      "metadata": {
        "id": "cTX4ySO6HkPc"
      },
      "source": [
        "## Add an `apply_discount()` method\n",
        "\n",
        "Now, define an instance method called `.apply_discount()` that applies a discount if one is provided and returns the discounted total. For example, if you initialize a new shopping cart with a discount of 20% then our total should be discounted in the amount of 20%. So, if our total were $ \\$100 $, after the discount you only would owe $ \\$80 $.\n",
        "\n",
        "If our shopping cart does not have an employee discount, then it should return a string saying: `\"Sorry, there is no discount to apply to your cart :(\"`"
      ]
    },
    {
      "cell_type": "code",
      "execution_count": null,
      "metadata": {
        "id": "v0P0KLdyHkPc"
      },
      "outputs": [],
      "source": []
    },
    {
      "cell_type": "markdown",
      "metadata": {
        "id": "XoYl5oXqHkPc"
      },
      "source": [
        "## Add a `void_last_item()` method"
      ]
    },
    {
      "cell_type": "markdown",
      "metadata": {
        "id": "xoFfF_KLHkPc"
      },
      "source": [
        "Finally, you are missing one piece of functionality. What if someone just accidentally added something to their cart or decided that this item is too expensive for their budget? Define a method called `void_last_item()` that removes the last item from the shopping cart and updates its total.  If there are no items in the shopping cart, `void_last_item()` should return `\"There are no items in your cart!\"`."
      ]
    },
    {
      "cell_type": "code",
      "execution_count": null,
      "metadata": {
        "id": "ZRl_vVopHkPc"
      },
      "outputs": [],
      "source": []
    },
    {
      "cell_type": "markdown",
      "metadata": {
        "id": "rfy3cwMFHkPc"
      },
      "source": [
        "## Summary\n",
        "In this lab, you practiced using instance methods to mimic the functionality of a shopping cart as well as defined methods that give you the mean and median prices of all the items in the cart."
      ]
    }
  ],
  "metadata": {
    "kernelspec": {
      "display_name": "Python 3 (ipykernel)",
      "language": "python",
      "name": "python3"
    },
    "language_info": {
      "codemirror_mode": {
        "name": "ipython",
        "version": 3
      },
      "file_extension": ".py",
      "mimetype": "text/x-python",
      "name": "python",
      "nbconvert_exporter": "python",
      "pygments_lexer": "ipython3",
      "version": "3.12.2"
    },
    "colab": {
      "provenance": [],
      "include_colab_link": true
    }
  },
  "nbformat": 4,
  "nbformat_minor": 0
}